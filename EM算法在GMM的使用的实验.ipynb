{
 "cells": [
  {
   "cell_type": "markdown",
   "metadata": {},
   "source": [
    "## 背景知识"
   ]
  },
  {
   "cell_type": "markdown",
   "metadata": {},
   "source": [
    "EM算法（Expectation Maximization Algorithm）是一种迭代的优化算法，最初是为了解决数据缺失情况下的参数估计问题，其作为一种数据添加算法，在近几十年得到迅速的发展，主要源于当前科学研究以及各方面实际应用中数据量越来越大的情况下，经常存在数据缺失或者不可用的的问题。随着理论的发展，EM算法己经不单单用在处理缺失数据的问题，运用这种思想，它所能处理的问题更加广泛。有时候缺失数据并非是真的缺少了，而是为了简化问题而采取的策略，这时EM算法被称为数据添加技术，所添加的数据通常被称为“潜在数据”，复杂的问题通过引入恰当的潜在数据，能够有效地解决我们的问题。\n",
    "\n",
    "\n"
   ]
  },
  {
   "cell_type": "markdown",
   "metadata": {},
   "source": [
    "## 算法简介"
   ]
  },
  {
   "cell_type": "markdown",
   "metadata": {},
   "source": [
    "**1.GMM：**  \n",
    "高斯混合模型（Gaussian Mixed Model）指的是多个高斯模型的线性组合，其基本形式为：\n",
    "$$\\sum_{k=1}^K \\pi_kN(x|\\mu_k,\\Sigma_k)$$ \n",
    "\n",
    "其中：$$\\sum_{k=1}^K\\pi_k=1$$\n",
    "\n",
    "且：$$0\\leq\\pi_k\\leq1$$\n",
    "$N(x|\\mu_k,\\Sigma_k)$为一高斯分布，被称为混合模型中第k个分量（component）。\n",
    "理论上，高斯混合模型可以用来拟合任意一种分布，通常用于解决同一集合下的数据包含多个不同的分布的情况（或者是同一类分布但参数不一样，或者是不同类型的分布，比如正态分布和伯努利分布）.\n",
    "\n",
    "**2.算法思想： **    \n",
    "EM算法是一种迭代的算法，算法主要分为计算隐含变量期望的E步（E step）和用最大似然法估计参数的M步（M step），EM算法由此得名。例如如果我们需要通过已有样本计算概率分布$p(x_i;\\theta)$的参数$\\theta$,我们就可以运用EM'算法\n",
    "\n",
    "E步中，我们根据已有的估计参数计算隐变量的期望值\n",
    "$$Q_i(z^{(i)}):=p(z^{(i)}|x^{(i)};\\theta)$$其中，$z^{(i)}$是样本$x^{(i)}$所属的类。\n",
    "\n",
    "M步中，我们结合E步求出的隐含变量条件概率，用最大似然法来估计参数\n",
    "$$\\theta:=arg\\max_{\\theta}\\sum_i\\sum_{z^{(i)}}Q_i(z^{(i)})log\\frac{p(x^{(i)},z{(i)};\\theta)}{Q_i(z^{(i)})}$$   \n",
    "\n",
    "完整的算法步骤如下：   \n",
    "（1）初始化参数   \n",
    "（2）执行E步   \n",
    "（3）执行M步   \n",
    "（4）反复迭代（2）和（3）直到算法收敛\n",
    "\n",
    "**3.算法结果**:   \n",
    "当算法收敛之后，我们可以得到估计的概率分布参数$\\theta$，从而根据样本得到概率分布$p(x_i;\\theta)$\n",
    "\n"
   ]
  },
  {
   "cell_type": "markdown",
   "metadata": {},
   "source": [
    "## 一、实验目的"
   ]
  },
  {
   "cell_type": "markdown",
   "metadata": {},
   "source": [
    "1.理解EM算法。  \n",
    "2.学会使用GaussianMixture。    "
   ]
  },
  {
   "cell_type": "markdown",
   "metadata": {},
   "source": [
    "## 二、实验步骤   "
   ]
  },
  {
   "cell_type": "markdown",
   "metadata": {},
   "source": [
    "1.载入相应模块。"
   ]
  },
  {
   "cell_type": "code",
   "execution_count": 6,
   "metadata": {},
   "outputs": [],
   "source": [
    "import numpy as np  \n",
    "import matplotlib.pyplot as plt  \n",
    "from sklearn.datasets.samples_generator import make_blobs  \n",
    "from sklearn import cluster  \n",
    "from sklearn.metrics import adjusted_rand_score  \n",
    "from sklearn import mixture  "
   ]
  },
  {
   "cell_type": "markdown",
   "metadata": {},
   "source": [
    "2.定义只做数据集函数。  "
   ]
  },
  {
   "cell_type": "code",
   "execution_count": 7,
   "metadata": {},
   "outputs": [],
   "source": [
    "def create_data(centers,num=100,std=0.7):  \n",
    "    X,labels_true=make_blobs(n_samples=num,centers=centers,cluster_std=std)  \n",
    "    return X,labels_true  "
   ]
  },
  {
   "cell_type": "markdown",
   "metadata": {},
   "source": [
    "3.定义具有不同component的GMM函数并且计算ARI作为评价聚类的优劣。  "
   ]
  },
  {
   "cell_type": "code",
   "execution_count": 8,
   "metadata": {},
   "outputs": [],
   "source": [
    "def test_GMM_n_components(*data):  \n",
    "    X,labels_true=data  \n",
    "    nums=range(2,6)  \n",
    "    ARIs=[]  \n",
    "    for num in nums:\n",
    "        clst=mixture.GaussianMixture(n_components=num)  \n",
    "        clst.fit(X)  \n",
    "        predicted_labels=clst.predict(X)  \n",
    "        ARIs.append(adjusted_rand_score(labels_true,predicted_labels))  \n",
    "    return nums,ARIs  \n"
   ]
  },
  {
   "cell_type": "markdown",
   "metadata": {},
   "source": [
    "4.给出中心，调用函数生成数据集，并且画出相应图片，大致查看分布。  "
   ]
  },
  {
   "cell_type": "code",
   "execution_count": 9,
   "metadata": {},
   "outputs": [
    {
     "data": {
      "text/plain": [
       "<matplotlib.text.Text at 0x7fb9778d1be0>"
      ]
     },
     "execution_count": 9,
     "metadata": {},
     "output_type": "execute_result"
    },
    {
     "data": {
      "image/png": "[encoded data removed]",
      "text/plain": [
       "<matplotlib.figure.Figure at 0x7fb97a07e9b0>"
      ]
     },
     "metadata": {},
     "output_type": "display_data"
    }
   ],
   "source": [
    "centers=[[1,1],[2,2],[1,2],[10,20]]\n",
    "X,labels_true=create_data(centers,1000,0.5)\n",
    "plt.scatter(X[:, 0], X[:, 1], c = \"red\", marker='.', label='see')  \n",
    "plt.xlabel('x')  \n",
    "plt.ylabel('y')  "
   ]
  },
  {
   "cell_type": "markdown",
   "metadata": {},
   "source": [
    "5.调用GMM函数进行聚类，并返回ARI，画出ARI随着聚类的类别个数增加而改变的图像。  "
   ]
  },
  {
   "cell_type": "code",
   "execution_count": 10,
   "metadata": {},
   "outputs": [
    {
     "data": {
      "image/png": "[encoded data removed]",
      "text/plain": [
       "<matplotlib.figure.Figure at 0x7fb9778deb70>"
      ]
     },
     "metadata": {},
     "output_type": "display_data"
    }
   ],
   "source": [
    "nums,ARIs = test_GMM_n_components(X,labels_true)\n",
    "fig=plt.figure()\n",
    "ax=fig.add_subplot(1,1,1)\n",
    "ax.plot(nums,ARIs,marker='+',color='r')\n",
    "ax.set_xlabel(\"n_components\")\n",
    "ax.set_ylabel(\"ARI\")\n",
    "fig.suptitle(\"GMM\")\n",
    "plt.show()"
   ]
  },
  {
   "cell_type": "markdown",
   "metadata": {},
   "source": [
    "## 三、实验注意事项  "
   ]
  },
  {
   "cell_type": "markdown",
   "metadata": {},
   "source": [
    "1.GaussianMixture参数   \n",
    "**n_components** :混合高斯模型个数，默认为1   \n",
    "**covariance_type** :协方差类型，包括{‘full’,‘tied’, ‘diag’, ‘spherical’}四种，分别对应完全协方差矩阵（元素都不为零），相同的完全协方差矩阵（HMM会用到），对角协方差矩阵（非对角为零，对角不为零），球面协方差矩阵（非对角为零，对角完全相同，球面特性），默认‘full’ 完全协方差矩阵。    \n",
    "**tol** ：EM迭代停止阈值，默认为1e-3。   \n",
    "**reg_covar** :协方差对角非负正则化，保证协方差矩阵均为正，默认为0。  \n",
    "**max_iter** :最大迭代次数，默认100。   \n",
    "**n_init** :初始化次数，用于产生最佳初始参数，默认为1。  \n",
    "**init_params** : {‘kmeans’, ‘random’}, defaults to ‘kmeans’.初始化参数实现方式，默认用kmeans实现，也可以选择随机产生。  \n",
    "**weights_init** :各组成模型的先验权重，可以自己设。   \n",
    "**means_init** :初始化均值。  \n",
    "**precisions_init**:初始化精确度（模型个数，特征个数）。  \n",
    "**random_state** :随机数发生器。  \n",
    "**warm_start** :若为True，则fit（）调用会以上一次fit（）的结果作为初始化参数，适合相同问题多次fit的情况，能加速收敛，默认为False。   \n",
    "**verbose** :使能迭代信息显示，默认为0，可以为1或者大于1（显示的信息不同）。   \n",
    "**verbose_interval** :与verbose挂钩，若使能迭代信息显示，设置多少次迭代后显示信息，默认10次。  \n",
    "\n",
    "2.GaussianMixture方法  \n",
    "**weights_** : array-like, shape (n_components,)每个高斯模型的权重。  \n",
    "**means_** : array-like, shape (n_components, n_features)每个高斯模型的均值。  \n",
    "**covariances_** : array-like，各混合物中各组分的协方差。形状取决于协方差形式：  \n",
    "(n_components,)if 'spherical',  \n",
    "(n_features, n_features)if 'tied',  \n",
    "(n_components, n_features)if 'diag',  \n",
    "(n_components, n_features, n_features) if 'full'。  \n",
    "**precisions_** : array-like，混合物中各组分的精确矩阵。精度矩阵是协方差矩阵的逆矩阵。协方差矩阵是对称正定的，因此高斯混合可以等价地由精度矩阵参数化。存储精度矩阵而不是协方差矩阵使得在测试时计算新样本的对数似然性更有效。形状取决于协变量类型：  \n",
    "(n_components,)if 'spherical',  \n",
    "(n_features, n_features)if 'tied',  \n",
    "(n_components, n_features)if 'diag',  \n",
    "(n_components, n_features, n_features) if 'full'。  \n",
    "**precisions_cholesky_** : array-like，每个混合组分的精确矩阵的Cholesky分解。精度矩阵是协方差矩阵的逆矩阵。协方差矩阵是对称正定的，因此高斯混合可以等价地由精度矩阵参数化。存储精度矩阵而不是协方差矩阵使得在测试时计算新样本的对数似然性更有效。形状取决于协变量类型：\n",
    "(n_components,)if 'spherical',  \n",
    "(n_features, n_features)if 'tied',  \n",
    "(n_components, n_features)if 'diag',  \n",
    "(n_components, n_features, n_features) if 'full'。   \n",
    "**converged_** : bool当收敛时为True,否则为False。   \n",
    "**n_iter_** : int，通过EM的最佳拟合所使用的步长数达到收敛。  \n",
    "**lower_bound_** : float，使用EM算法之后的对数似然。  \n",
    "\n",
    "3.GaussianMixture属性  \n",
    "**aic(X)** ：在输入X上的当前模型的Akaike信息标准。    \n",
    "**bic(X)** ：在输入X上的当前模型的贝叶斯信息准则。  \n",
    "**fit(X, y=None)** ：用EM算法估计模型参数。  \n",
    "**get_params(deep=True)** ：为模型获取参数。    \n",
    "**predict(X)** ：使用训练模型预测X中的数据样本的标签。  \n",
    "**predict_proba(X)** ：预测给定数据的每个分量的后验概率。  \n",
    "**sample(n_samples=1)** ：从拟合高斯分布生成随机样本。  \n",
    "**score(X, y=None)** ：计算给定数据X.的每个样本平均对数似然。  \n",
    "**score_samples(X)** ：计算每个样本的加权对数概率。  \n",
    "**set_params($**$params)** ：模型参数的设置。  "
   ]
  },
  {
   "cell_type": "markdown",
   "metadata": {},
   "source": [
    "## 四、实验拓展  "
   ]
  },
  {
   "cell_type": "markdown",
   "metadata": {},
   "source": [
    "1.了解ARI聚类评价指标。  \n",
    "2.了解EM算法初值敏感性。  \n",
    "3.试采用别的数据集尝试聚类。  \n",
    "4.与K-means聚类进行比较。  "
   ]
  }
 ],
 "metadata": {
  "kernelspec": {
   "display_name": "Python 3",
   "language": "python",
   "name": "python3"
  },
  "language_info": {
   "codemirror_mode": {
    "name": "ipython",
    "version": 3
   },
   "file_extension": ".py",
   "mimetype": "text/x-python",
   "name": "python",
   "nbconvert_exporter": "python",
   "pygments_lexer": "ipython3",
   "version": "3.7.0"
  }
 },
 "nbformat": 4,
 "nbformat_minor": 2
}
