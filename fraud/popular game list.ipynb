{
 "cells": [
  {
   "cell_type": "code",
   "execution_count": 1,
   "metadata": {},
   "outputs": [],
   "source": [
    "import numpy as np\n",
    "import pandas as pd\n",
    "import seaborn as sns\n",
    "import matplotlib.pyplot as plt\n",
    "\n",
    "# we don't like warnings\n",
    "# you can comment the following 2 lines if you'd like to\n",
    "import warnings\n",
    "warnings.filterwarnings('ignore')\n",
    "\n",
    "sns.set()\n",
    "\n",
    "# Graphics in SVG format are more sharp and legible\n",
    "#%config InlineBackend.figure_format = 'svg'"
   ]
  },
  {
   "cell_type": "code",
   "execution_count": 2,
   "metadata": {
    "scrolled": false
   },
   "outputs": [
    {
     "name": "stdout",
     "output_type": "stream",
     "text": [
      "popular game 列参数 = ['name' 'GEO' 'link' 'developer']\n"
     ]
    },
    {
     "data": {
      "text/html": [
       "<div>\n",
       "<style scoped>\n",
       "    .dataframe tbody tr th:only-of-type {\n",
       "        vertical-align: middle;\n",
       "    }\n",
       "\n",
       "    .dataframe tbody tr th {\n",
       "        vertical-align: top;\n",
       "    }\n",
       "\n",
       "    .dataframe thead th {\n",
       "        text-align: right;\n",
       "    }\n",
       "</style>\n",
       "<table border=\"1\" class=\"dataframe\">\n",
       "  <thead>\n",
       "    <tr style=\"text-align: right;\">\n",
       "      <th></th>\n",
       "      <th>name</th>\n",
       "      <th>GEO</th>\n",
       "      <th>link</th>\n",
       "      <th>developer</th>\n",
       "    </tr>\n",
       "  </thead>\n",
       "  <tbody>\n",
       "    <tr>\n",
       "      <th>0</th>\n",
       "      <td>\\nHello Hero: Epic Battle</td>\n",
       "      <td>KR</td>\n",
       "      <td>com.fincon.hh2</td>\n",
       "      <td>Fincon</td>\n",
       "    </tr>\n",
       "    <tr>\n",
       "      <th>1</th>\n",
       "      <td>バクレツモンスター</td>\n",
       "      <td>JP</td>\n",
       "      <td>jp.colopl.bmonster</td>\n",
       "      <td>COLOPL, Inc.</td>\n",
       "    </tr>\n",
       "    <tr>\n",
       "      <th>2</th>\n",
       "      <td>【50vs50】ファンタジーアース ジェネシス「Fantasy Earth Genesis」</td>\n",
       "      <td>JP</td>\n",
       "      <td>com.asobimo.FantasyEarthGenesis</td>\n",
       "      <td>Asobimo, Inc.</td>\n",
       "    </tr>\n",
       "    <tr>\n",
       "      <th>3</th>\n",
       "      <td>4-Wheel City Drifting</td>\n",
       "      <td>JP</td>\n",
       "      <td>com.cityracing.speeddrifting</td>\n",
       "      <td>RainySam</td>\n",
       "    </tr>\n",
       "    <tr>\n",
       "      <th>4</th>\n",
       "      <td>Age of Magic</td>\n",
       "      <td>RU</td>\n",
       "      <td>com.playkot.ageofmagic</td>\n",
       "      <td>Playkot LTD</td>\n",
       "    </tr>\n",
       "  </tbody>\n",
       "</table>\n",
       "</div>"
      ],
      "text/plain": [
       "                                             name GEO  \\\n",
       "0                       \\nHello Hero: Epic Battle  KR   \n",
       "1                                       バクレツモンスター  JP   \n",
       "2  【50vs50】ファンタジーアース ジェネシス「Fantasy Earth Genesis」  JP   \n",
       "3                           4-Wheel City Drifting  JP   \n",
       "4                                    Age of Magic  RU   \n",
       "\n",
       "                              link      developer  \n",
       "0                   com.fincon.hh2         Fincon  \n",
       "1               jp.colopl.bmonster   COLOPL, Inc.  \n",
       "2  com.asobimo.FantasyEarthGenesis  Asobimo, Inc.  \n",
       "3     com.cityracing.speeddrifting       RainySam  \n",
       "4           com.playkot.ageofmagic    Playkot LTD  "
      ]
     },
     "execution_count": 2,
     "metadata": {},
     "output_type": "execute_result"
    }
   ],
   "source": [
    "pop_game_df = pd.read_csv('./data/popular game list--Parisa.csv')\n",
    "pkg_rev_df = pd.read_csv('./data/pkg_rev.csv').rename(columns={'pkg_name':'link','geo':'GEO'})\n",
    "\n",
    "print('popular game 列参数 = {}'.format(pop_game_df.columns.values))\n",
    "pop_game_df.head()"
   ]
  },
  {
   "cell_type": "code",
   "execution_count": 3,
   "metadata": {},
   "outputs": [
    {
     "name": "stdout",
     "output_type": "stream",
     "text": [
      "pkg_rev 列参数 = ['start_time' 'revenue' 'revenue_f' 'conv' 'conv_f' 'click_count'\n",
      " 'pub_name' 'source_name' 'GEO' 'link']\n"
     ]
    },
    {
     "data": {
      "text/html": [
       "<div>\n",
       "<style scoped>\n",
       "    .dataframe tbody tr th:only-of-type {\n",
       "        vertical-align: middle;\n",
       "    }\n",
       "\n",
       "    .dataframe tbody tr th {\n",
       "        vertical-align: top;\n",
       "    }\n",
       "\n",
       "    .dataframe thead th {\n",
       "        text-align: right;\n",
       "    }\n",
       "</style>\n",
       "<table border=\"1\" class=\"dataframe\">\n",
       "  <thead>\n",
       "    <tr style=\"text-align: right;\">\n",
       "      <th></th>\n",
       "      <th>start_time</th>\n",
       "      <th>revenue</th>\n",
       "      <th>revenue_f</th>\n",
       "      <th>conv</th>\n",
       "      <th>conv_f</th>\n",
       "      <th>click_count</th>\n",
       "      <th>pub_name</th>\n",
       "      <th>source_name</th>\n",
       "      <th>GEO</th>\n",
       "      <th>link</th>\n",
       "    </tr>\n",
       "  </thead>\n",
       "  <tbody>\n",
       "    <tr>\n",
       "      <th>0</th>\n",
       "      <td>201810</td>\n",
       "      <td>146797.4075</td>\n",
       "      <td>102950.4815</td>\n",
       "      <td>481599</td>\n",
       "      <td>244082</td>\n",
       "      <td>246788061</td>\n",
       "      <td>NaN</td>\n",
       "      <td>NaN</td>\n",
       "      <td>IN</td>\n",
       "      <td>com.UCMobile.intl</td>\n",
       "    </tr>\n",
       "    <tr>\n",
       "      <th>1</th>\n",
       "      <td>201808</td>\n",
       "      <td>135648.6839</td>\n",
       "      <td>87528.8521</td>\n",
       "      <td>368576</td>\n",
       "      <td>167727</td>\n",
       "      <td>193858849</td>\n",
       "      <td>NaN</td>\n",
       "      <td>NaN</td>\n",
       "      <td>IN</td>\n",
       "      <td>com.UCMobile.intl</td>\n",
       "    </tr>\n",
       "    <tr>\n",
       "      <th>2</th>\n",
       "      <td>201809</td>\n",
       "      <td>114962.6730</td>\n",
       "      <td>75757.7317</td>\n",
       "      <td>303600</td>\n",
       "      <td>140324</td>\n",
       "      <td>231005162</td>\n",
       "      <td>NaN</td>\n",
       "      <td>NaN</td>\n",
       "      <td>IN</td>\n",
       "      <td>com.UCMobile.intl</td>\n",
       "    </tr>\n",
       "    <tr>\n",
       "      <th>3</th>\n",
       "      <td>201807</td>\n",
       "      <td>113119.4550</td>\n",
       "      <td>64140.7900</td>\n",
       "      <td>41209</td>\n",
       "      <td>17702</td>\n",
       "      <td>2638515</td>\n",
       "      <td>NaN</td>\n",
       "      <td>NaN</td>\n",
       "      <td>TW</td>\n",
       "      <td>com.gm99.clx</td>\n",
       "    </tr>\n",
       "    <tr>\n",
       "      <th>4</th>\n",
       "      <td>201810</td>\n",
       "      <td>95975.4475</td>\n",
       "      <td>51305.1300</td>\n",
       "      <td>14859</td>\n",
       "      <td>6126</td>\n",
       "      <td>203062099</td>\n",
       "      <td>NaN</td>\n",
       "      <td>NaN</td>\n",
       "      <td>JP</td>\n",
       "      <td>id852801905</td>\n",
       "    </tr>\n",
       "  </tbody>\n",
       "</table>\n",
       "</div>"
      ],
      "text/plain": [
       "   start_time      revenue    revenue_f    conv  conv_f  click_count  \\\n",
       "0      201810  146797.4075  102950.4815  481599  244082    246788061   \n",
       "1      201808  135648.6839   87528.8521  368576  167727    193858849   \n",
       "2      201809  114962.6730   75757.7317  303600  140324    231005162   \n",
       "3      201807  113119.4550   64140.7900   41209   17702      2638515   \n",
       "4      201810   95975.4475   51305.1300   14859    6126    203062099   \n",
       "\n",
       "   pub_name  source_name GEO               link  \n",
       "0       NaN          NaN  IN  com.UCMobile.intl  \n",
       "1       NaN          NaN  IN  com.UCMobile.intl  \n",
       "2       NaN          NaN  IN  com.UCMobile.intl  \n",
       "3       NaN          NaN  TW       com.gm99.clx  \n",
       "4       NaN          NaN  JP        id852801905  "
      ]
     },
     "execution_count": 3,
     "metadata": {},
     "output_type": "execute_result"
    }
   ],
   "source": [
    "print('pkg_rev 列参数 = {}'.format(pkg_rev_df.columns.values))\n",
    "pkg_rev_df.head()"
   ]
  },
  {
   "cell_type": "code",
   "execution_count": 4,
   "metadata": {},
   "outputs": [
    {
     "data": {
      "text/html": [
       "<div>\n",
       "<style scoped>\n",
       "    .dataframe tbody tr th:only-of-type {\n",
       "        vertical-align: middle;\n",
       "    }\n",
       "\n",
       "    .dataframe tbody tr th {\n",
       "        vertical-align: top;\n",
       "    }\n",
       "\n",
       "    .dataframe thead th {\n",
       "        text-align: right;\n",
       "    }\n",
       "</style>\n",
       "<table border=\"1\" class=\"dataframe\">\n",
       "  <thead>\n",
       "    <tr style=\"text-align: right;\">\n",
       "      <th></th>\n",
       "      <th>link</th>\n",
       "      <th>GEO</th>\n",
       "      <th>revenue</th>\n",
       "    </tr>\n",
       "  </thead>\n",
       "  <tbody>\n",
       "    <tr>\n",
       "      <th>299</th>\n",
       "      <td>com.UCMobile.intl</td>\n",
       "      <td>IN</td>\n",
       "      <td>491759.5</td>\n",
       "    </tr>\n",
       "    <tr>\n",
       "      <th>9531</th>\n",
       "      <td>id852801905</td>\n",
       "      <td>JP</td>\n",
       "      <td>304727.5</td>\n",
       "    </tr>\n",
       "    <tr>\n",
       "      <th>2092</th>\n",
       "      <td>com.enflick.android.TextNow</td>\n",
       "      <td>US</td>\n",
       "      <td>185287.7</td>\n",
       "    </tr>\n",
       "    <tr>\n",
       "      <th>2622</th>\n",
       "      <td>com.gm99.clx</td>\n",
       "      <td>TW</td>\n",
       "      <td>173723.6</td>\n",
       "    </tr>\n",
       "    <tr>\n",
       "      <th>10001</th>\n",
       "      <td>in.amazon.mShop.android.shopping</td>\n",
       "      <td>IN</td>\n",
       "      <td>127637.8</td>\n",
       "    </tr>\n",
       "    <tr>\n",
       "      <th>3513</th>\n",
       "      <td>com.lazada.android</td>\n",
       "      <td>ID</td>\n",
       "      <td>102292.9</td>\n",
       "    </tr>\n",
       "    <tr>\n",
       "      <th>6503</th>\n",
       "      <td>com.williamsinteractive.jackpotparty</td>\n",
       "      <td>US</td>\n",
       "      <td>97803.4</td>\n",
       "    </tr>\n",
       "    <tr>\n",
       "      <th>3721</th>\n",
       "      <td>com.machipopo.media17</td>\n",
       "      <td>JP</td>\n",
       "      <td>96659.1</td>\n",
       "    </tr>\n",
       "    <tr>\n",
       "      <th>9179</th>\n",
       "      <td>id583376064</td>\n",
       "      <td>JP</td>\n",
       "      <td>96278.0</td>\n",
       "    </tr>\n",
       "    <tr>\n",
       "      <th>3463</th>\n",
       "      <td>com.kreditpintar</td>\n",
       "      <td>ID</td>\n",
       "      <td>94901.3</td>\n",
       "    </tr>\n",
       "    <tr>\n",
       "      <th>104</th>\n",
       "      <td>blibli.mobile.commerce</td>\n",
       "      <td>ID</td>\n",
       "      <td>94159.5</td>\n",
       "    </tr>\n",
       "    <tr>\n",
       "      <th>1584</th>\n",
       "      <td>com.cmcm.live</td>\n",
       "      <td>US</td>\n",
       "      <td>87285.6</td>\n",
       "    </tr>\n",
       "    <tr>\n",
       "      <th>298</th>\n",
       "      <td>com.UCMobile.intl</td>\n",
       "      <td>ID</td>\n",
       "      <td>87020.5</td>\n",
       "    </tr>\n",
       "    <tr>\n",
       "      <th>10189</th>\n",
       "      <td>jp.co.rakuten.android</td>\n",
       "      <td>JP</td>\n",
       "      <td>82765.7</td>\n",
       "    </tr>\n",
       "    <tr>\n",
       "      <th>3517</th>\n",
       "      <td>com.lazada.android</td>\n",
       "      <td>TH</td>\n",
       "      <td>82672.7</td>\n",
       "    </tr>\n",
       "    <tr>\n",
       "      <th>4203</th>\n",
       "      <td>com.myntra.android</td>\n",
       "      <td>IN</td>\n",
       "      <td>79906.4</td>\n",
       "    </tr>\n",
       "    <tr>\n",
       "      <th>542</th>\n",
       "      <td>com.alibaba.intl.android.apps.poseidon</td>\n",
       "      <td>IN</td>\n",
       "      <td>73411.2</td>\n",
       "    </tr>\n",
       "    <tr>\n",
       "      <th>6646</th>\n",
       "      <td>com.yinshan.program.banda</td>\n",
       "      <td>ID</td>\n",
       "      <td>71041.1</td>\n",
       "    </tr>\n",
       "    <tr>\n",
       "      <th>382</th>\n",
       "      <td>com.acorns.android</td>\n",
       "      <td>US</td>\n",
       "      <td>69043.6</td>\n",
       "    </tr>\n",
       "    <tr>\n",
       "      <th>3515</th>\n",
       "      <td>com.lazada.android</td>\n",
       "      <td>PH</td>\n",
       "      <td>67913.2</td>\n",
       "    </tr>\n",
       "    <tr>\n",
       "      <th>5916</th>\n",
       "      <td>com.taxis99</td>\n",
       "      <td>BR</td>\n",
       "      <td>66989.3</td>\n",
       "    </tr>\n",
       "    <tr>\n",
       "      <th>643</th>\n",
       "      <td>com.amazon.mShop.android.shopping</td>\n",
       "      <td>US</td>\n",
       "      <td>66909.6</td>\n",
       "    </tr>\n",
       "    <tr>\n",
       "      <th>10271</th>\n",
       "      <td>jp.hotpepper.android.beauty.hair</td>\n",
       "      <td>JP</td>\n",
       "      <td>66039.8</td>\n",
       "    </tr>\n",
       "    <tr>\n",
       "      <th>10251</th>\n",
       "      <td>jp.glee.girl</td>\n",
       "      <td>JP</td>\n",
       "      <td>61785.4</td>\n",
       "    </tr>\n",
       "    <tr>\n",
       "      <th>6016</th>\n",
       "      <td>com.tiket.gits</td>\n",
       "      <td>ID</td>\n",
       "      <td>60912.7</td>\n",
       "    </tr>\n",
       "    <tr>\n",
       "      <th>6197</th>\n",
       "      <td>com.twitter.android</td>\n",
       "      <td>IN</td>\n",
       "      <td>60338.2</td>\n",
       "    </tr>\n",
       "    <tr>\n",
       "      <th>10166</th>\n",
       "      <td>jp.co.matchingagent.cocotsure</td>\n",
       "      <td>JP</td>\n",
       "      <td>58297.0</td>\n",
       "    </tr>\n",
       "    <tr>\n",
       "      <th>2558</th>\n",
       "      <td>com.garena.game.kgid</td>\n",
       "      <td>ID</td>\n",
       "      <td>57842.7</td>\n",
       "    </tr>\n",
       "    <tr>\n",
       "      <th>3489</th>\n",
       "      <td>com.ksmobile.launcher</td>\n",
       "      <td>US</td>\n",
       "      <td>56700.5</td>\n",
       "    </tr>\n",
       "    <tr>\n",
       "      <th>6822</th>\n",
       "      <td>com.zynga.words3</td>\n",
       "      <td>US</td>\n",
       "      <td>56489.9</td>\n",
       "    </tr>\n",
       "    <tr>\n",
       "      <th>...</th>\n",
       "      <td>...</td>\n",
       "      <td>...</td>\n",
       "      <td>...</td>\n",
       "    </tr>\n",
       "    <tr>\n",
       "      <th>3641</th>\n",
       "      <td>com.logic.popstar_2015</td>\n",
       "      <td>HK</td>\n",
       "      <td>0.1</td>\n",
       "    </tr>\n",
       "    <tr>\n",
       "      <th>1716</th>\n",
       "      <td>com.creditsesame</td>\n",
       "      <td>ZZ</td>\n",
       "      <td>0.1</td>\n",
       "    </tr>\n",
       "    <tr>\n",
       "      <th>690</th>\n",
       "      <td>com.apalon.ringtones</td>\n",
       "      <td>GB</td>\n",
       "      <td>0.1</td>\n",
       "    </tr>\n",
       "    <tr>\n",
       "      <th>10949</th>\n",
       "      <td>walking.pedometer.fit.stepcounter</td>\n",
       "      <td>MY</td>\n",
       "      <td>0.1</td>\n",
       "    </tr>\n",
       "    <tr>\n",
       "      <th>5113</th>\n",
       "      <td>com.procter.sharp</td>\n",
       "      <td>KR</td>\n",
       "      <td>0.1</td>\n",
       "    </tr>\n",
       "    <tr>\n",
       "      <th>10433</th>\n",
       "      <td>mappstreet.emojisearch</td>\n",
       "      <td>UA</td>\n",
       "      <td>0.1</td>\n",
       "    </tr>\n",
       "    <tr>\n",
       "      <th>1096</th>\n",
       "      <td>com.banggood.client</td>\n",
       "      <td>PL</td>\n",
       "      <td>0.1</td>\n",
       "    </tr>\n",
       "    <tr>\n",
       "      <th>5224</th>\n",
       "      <td>com.recorder.video.magic.capture.gameplay</td>\n",
       "      <td>AU</td>\n",
       "      <td>0.1</td>\n",
       "    </tr>\n",
       "    <tr>\n",
       "      <th>5822</th>\n",
       "      <td>com.superexpert.blockpuzzle</td>\n",
       "      <td>PH</td>\n",
       "      <td>0.1</td>\n",
       "    </tr>\n",
       "    <tr>\n",
       "      <th>832</th>\n",
       "      <td>com.appmakerz.shark</td>\n",
       "      <td>NO</td>\n",
       "      <td>0.1</td>\n",
       "    </tr>\n",
       "    <tr>\n",
       "      <th>5226</th>\n",
       "      <td>com.recorder.video.magic.capture.gameplay</td>\n",
       "      <td>CA</td>\n",
       "      <td>0.1</td>\n",
       "    </tr>\n",
       "    <tr>\n",
       "      <th>773</th>\n",
       "      <td>com.appmakerz.dclock</td>\n",
       "      <td>CH</td>\n",
       "      <td>0.1</td>\n",
       "    </tr>\n",
       "    <tr>\n",
       "      <th>2548</th>\n",
       "      <td>com.gamoper.candylegend.free</td>\n",
       "      <td>ZZ</td>\n",
       "      <td>0.1</td>\n",
       "    </tr>\n",
       "    <tr>\n",
       "      <th>5818</th>\n",
       "      <td>com.superexpert.blockpuzzle</td>\n",
       "      <td>ID</td>\n",
       "      <td>0.1</td>\n",
       "    </tr>\n",
       "    <tr>\n",
       "      <th>1240</th>\n",
       "      <td>com.billiards.city.pool.nation.club</td>\n",
       "      <td>KW</td>\n",
       "      <td>0.1</td>\n",
       "    </tr>\n",
       "    <tr>\n",
       "      <th>9962</th>\n",
       "      <td>id992309647</td>\n",
       "      <td>US</td>\n",
       "      <td>0.0</td>\n",
       "    </tr>\n",
       "    <tr>\n",
       "      <th>1642</th>\n",
       "      <td>com.colorphone.flash.call</td>\n",
       "      <td>ZZ</td>\n",
       "      <td>0.0</td>\n",
       "    </tr>\n",
       "    <tr>\n",
       "      <th>4643</th>\n",
       "      <td>com.outfit7.talkingtomgoldrun</td>\n",
       "      <td>ZZ</td>\n",
       "      <td>0.0</td>\n",
       "    </tr>\n",
       "    <tr>\n",
       "      <th>4641</th>\n",
       "      <td>com.outfit7.talkingtomgoldrun</td>\n",
       "      <td>SA</td>\n",
       "      <td>0.0</td>\n",
       "    </tr>\n",
       "    <tr>\n",
       "      <th>4581</th>\n",
       "      <td>com.opera.mini.native</td>\n",
       "      <td>CI</td>\n",
       "      <td>0.0</td>\n",
       "    </tr>\n",
       "    <tr>\n",
       "      <th>5836</th>\n",
       "      <td>com.superexpert.fireup</td>\n",
       "      <td>PK</td>\n",
       "      <td>0.0</td>\n",
       "    </tr>\n",
       "    <tr>\n",
       "      <th>4442</th>\n",
       "      <td>com.nkm.kp.hh</td>\n",
       "      <td>CR</td>\n",
       "      <td>0.0</td>\n",
       "    </tr>\n",
       "    <tr>\n",
       "      <th>300</th>\n",
       "      <td>com.UCMobile.intl</td>\n",
       "      <td>KE</td>\n",
       "      <td>0.0</td>\n",
       "    </tr>\n",
       "    <tr>\n",
       "      <th>10946</th>\n",
       "      <td>walking.pedometer.fit.stepcounter</td>\n",
       "      <td>IN</td>\n",
       "      <td>0.0</td>\n",
       "    </tr>\n",
       "    <tr>\n",
       "      <th>7012</th>\n",
       "      <td>es.socialpoint.DragonCity</td>\n",
       "      <td>LK</td>\n",
       "      <td>0.0</td>\n",
       "    </tr>\n",
       "    <tr>\n",
       "      <th>7013</th>\n",
       "      <td>es.socialpoint.DragonCity</td>\n",
       "      <td>MA</td>\n",
       "      <td>0.0</td>\n",
       "    </tr>\n",
       "    <tr>\n",
       "      <th>4580</th>\n",
       "      <td>com.opera.mini.native</td>\n",
       "      <td>BR</td>\n",
       "      <td>0.0</td>\n",
       "    </tr>\n",
       "    <tr>\n",
       "      <th>6996</th>\n",
       "      <td>es.socialpoint.DragonCity</td>\n",
       "      <td>CH</td>\n",
       "      <td>0.0</td>\n",
       "    </tr>\n",
       "    <tr>\n",
       "      <th>4934</th>\n",
       "      <td>com.pinjaman.danakilat</td>\n",
       "      <td>ID</td>\n",
       "      <td>0.0</td>\n",
       "    </tr>\n",
       "    <tr>\n",
       "      <th>5235</th>\n",
       "      <td>com.recorder.video.magic.capture.gameplay</td>\n",
       "      <td>VN</td>\n",
       "      <td>0.0</td>\n",
       "    </tr>\n",
       "  </tbody>\n",
       "</table>\n",
       "<p>10972 rows × 3 columns</p>\n",
       "</div>"
      ],
      "text/plain": [
       "                                            link GEO   revenue\n",
       "299                            com.UCMobile.intl  IN  491759.5\n",
       "9531                                 id852801905  JP  304727.5\n",
       "2092                 com.enflick.android.TextNow  US  185287.7\n",
       "2622                                com.gm99.clx  TW  173723.6\n",
       "10001           in.amazon.mShop.android.shopping  IN  127637.8\n",
       "3513                          com.lazada.android  ID  102292.9\n",
       "6503        com.williamsinteractive.jackpotparty  US   97803.4\n",
       "3721                       com.machipopo.media17  JP   96659.1\n",
       "9179                                 id583376064  JP   96278.0\n",
       "3463                            com.kreditpintar  ID   94901.3\n",
       "104                       blibli.mobile.commerce  ID   94159.5\n",
       "1584                               com.cmcm.live  US   87285.6\n",
       "298                            com.UCMobile.intl  ID   87020.5\n",
       "10189                      jp.co.rakuten.android  JP   82765.7\n",
       "3517                          com.lazada.android  TH   82672.7\n",
       "4203                          com.myntra.android  IN   79906.4\n",
       "542       com.alibaba.intl.android.apps.poseidon  IN   73411.2\n",
       "6646                   com.yinshan.program.banda  ID   71041.1\n",
       "382                           com.acorns.android  US   69043.6\n",
       "3515                          com.lazada.android  PH   67913.2\n",
       "5916                                 com.taxis99  BR   66989.3\n",
       "643            com.amazon.mShop.android.shopping  US   66909.6\n",
       "10271           jp.hotpepper.android.beauty.hair  JP   66039.8\n",
       "10251                               jp.glee.girl  JP   61785.4\n",
       "6016                              com.tiket.gits  ID   60912.7\n",
       "6197                         com.twitter.android  IN   60338.2\n",
       "10166              jp.co.matchingagent.cocotsure  JP   58297.0\n",
       "2558                        com.garena.game.kgid  ID   57842.7\n",
       "3489                       com.ksmobile.launcher  US   56700.5\n",
       "6822                            com.zynga.words3  US   56489.9\n",
       "...                                          ...  ..       ...\n",
       "3641                      com.logic.popstar_2015  HK       0.1\n",
       "1716                            com.creditsesame  ZZ       0.1\n",
       "690                         com.apalon.ringtones  GB       0.1\n",
       "10949          walking.pedometer.fit.stepcounter  MY       0.1\n",
       "5113                           com.procter.sharp  KR       0.1\n",
       "10433                     mappstreet.emojisearch  UA       0.1\n",
       "1096                         com.banggood.client  PL       0.1\n",
       "5224   com.recorder.video.magic.capture.gameplay  AU       0.1\n",
       "5822                 com.superexpert.blockpuzzle  PH       0.1\n",
       "832                          com.appmakerz.shark  NO       0.1\n",
       "5226   com.recorder.video.magic.capture.gameplay  CA       0.1\n",
       "773                         com.appmakerz.dclock  CH       0.1\n",
       "2548                com.gamoper.candylegend.free  ZZ       0.1\n",
       "5818                 com.superexpert.blockpuzzle  ID       0.1\n",
       "1240         com.billiards.city.pool.nation.club  KW       0.1\n",
       "9962                                 id992309647  US       0.0\n",
       "1642                   com.colorphone.flash.call  ZZ       0.0\n",
       "4643               com.outfit7.talkingtomgoldrun  ZZ       0.0\n",
       "4641               com.outfit7.talkingtomgoldrun  SA       0.0\n",
       "4581                       com.opera.mini.native  CI       0.0\n",
       "5836                      com.superexpert.fireup  PK       0.0\n",
       "4442                               com.nkm.kp.hh  CR       0.0\n",
       "300                            com.UCMobile.intl  KE       0.0\n",
       "10946          walking.pedometer.fit.stepcounter  IN       0.0\n",
       "7012                   es.socialpoint.DragonCity  LK       0.0\n",
       "7013                   es.socialpoint.DragonCity  MA       0.0\n",
       "4580                       com.opera.mini.native  BR       0.0\n",
       "6996                   es.socialpoint.DragonCity  CH       0.0\n",
       "4934                      com.pinjaman.danakilat  ID       0.0\n",
       "5235   com.recorder.video.magic.capture.gameplay  VN       0.0\n",
       "\n",
       "[10972 rows x 3 columns]"
      ]
     },
     "execution_count": 4,
     "metadata": {},
     "output_type": "execute_result"
    }
   ],
   "source": [
    "pkg_rev_df = pkg_rev_df.groupby(['link', 'GEO'])['revenue'].apply(np.sum).reset_index().sort_values(by=['revenue'], ascending=False)\n",
    "pkg_rev_df['revenue'] = pkg_rev_df['revenue'].round(decimals=1)\n",
    "pkg_rev_df"
   ]
  },
  {
   "cell_type": "code",
   "execution_count": 5,
   "metadata": {},
   "outputs": [],
   "source": [
    "new_df = pop_game_df[['GEO', 'link']].drop_duplicates(['GEO', 'link'])\n",
    "df1 = pd.merge(left=new_df, right=pkg_rev_df, on=['GEO', 'link'])\n",
    "\n",
    "df1.to_csv('pop game.csv', encoding='utf-8')"
   ]
  },
  {
   "cell_type": "code",
   "execution_count": 6,
   "metadata": {},
   "outputs": [
    {
     "ename": "SyntaxError",
     "evalue": "'return' outside function (<ipython-input-6-9b32c1431b19>, line 1)",
     "output_type": "error",
     "traceback": [
      "\u001b[0;36m  File \u001b[0;32m\"<ipython-input-6-9b32c1431b19>\"\u001b[0;36m, line \u001b[0;32m1\u001b[0m\n\u001b[0;31m    return\u001b[0m\n\u001b[0m          ^\u001b[0m\n\u001b[0;31mSyntaxError\u001b[0m\u001b[0;31m:\u001b[0m 'return' outside function\n"
     ]
    }
   ],
   "source": [
    "return"
   ]
  },
  {
   "cell_type": "code",
   "execution_count": null,
   "metadata": {},
   "outputs": [],
   "source": []
  },
  {
   "cell_type": "code",
   "execution_count": null,
   "metadata": {},
   "outputs": [],
   "source": []
  },
  {
   "cell_type": "code",
   "execution_count": null,
   "metadata": {},
   "outputs": [],
   "source": []
  },
  {
   "cell_type": "markdown",
   "metadata": {},
   "source": [
    "### 0.fraud平均值"
   ]
  },
  {
   "cell_type": "code",
   "execution_count": null,
   "metadata": {},
   "outputs": [],
   "source": [
    "org_fraud_avg = round(org_df['is_fraud'].aggregate(np.sum)/org_df['is_valid_pb'].aggregate(np.sum), ndigits=2)\n",
    "print('fraud平均值 = {}'.format(org_fraud_avg))"
   ]
  },
  {
   "cell_type": "code",
   "execution_count": null,
   "metadata": {
    "scrolled": true
   },
   "outputs": [],
   "source": [
    "def fill_org(o_df, source=None, dates=None):\n",
    "    '''\n",
    "    填充 fraud_payout\n",
    "    :param : \n",
    "    :param : \n",
    "    :return: \n",
    "    '''\n",
    "    max_citi = 3600*24*3\n",
    "    max_fraud_ctit = 45\n",
    "    if source:\n",
    "        df = org_df[(o_df['is_valid_pb'] == True) & (o_df['source'].isin(source)) & (o_df['date'].isin(dates))]\n",
    "    else:\n",
    "        df = org_df[(o_df['is_valid_pb'] == True) & (o_df['date'].isin(dates))]\n",
    "    df['fraud_payout'] = df['payout'] * df['is_fraud']\n",
    "    df['ctit'] = ((pd.to_datetime(df['postback_datetime']) - pd.to_datetime(df['click_datetime'])) / np.timedelta64(1, 's')).astype(int)\n",
    "    df['ctit'] = df['ctit'].where(df['ctit'] <= max_citi, other=max_citi)\n",
    "    df['is_ctit'] = (df['ctit'] <= max_fraud_ctit).astype(np.bool).astype(np.int0)\n",
    "    return df\n",
    "\n",
    "\n",
    "def get_summary_by_date(df):\n",
    "    dd = df.groupby(['date'])['payout','is_fraud','is_valid_pb', 'fraud_payout', 'is_ctit'].aggregate(np.sum)\n",
    "    dd['payout'] = dd['payout'].round(decimals=1)\n",
    "    dd['fraud_payout'] = dd['fraud_payout'].round(decimals=1)\n",
    "    dd['fraud_p'] = (dd['is_fraud']/dd['is_valid_pb']).round(decimals=2)\n",
    "    dd['fraud_payout_p'] = (dd['fraud_payout']/dd['payout']).round(decimals=2)\n",
    "    dd['ctit_p'] = (dd['is_ctit']/dd['is_valid_pb']).round(decimals=2)\n",
    "    return dd\n",
    "\n",
    "\n",
    "def get_fraud_note(df):\n",
    "    return df.groupby(['fraud_note'])['payout','is_fraud','is_valid_pb', 'fraud_payout'].aggregate(np.sum)\n",
    "\n",
    "\n",
    "def get_tops(df, date_len, t_pb_day=10, t_payout_day=50, group_by=['pubid']):\n",
    "    total_valid_pb = t_pb_day * date_len\n",
    "    total_payout = t_payout_day * date_len\n",
    "    dd = df.groupby(group_by)['payout','is_fraud','is_valid_pb', 'fraud_payout', 'is_ctit'].aggregate(np.sum)\n",
    "    dd = dd.query('payout >= {} or is_valid_pb >= {}'.format(total_payout, total_valid_pb))\n",
    "    dd['payout'] = dd['payout'].round(decimals=1)\n",
    "    dd['fraud_p'] = (dd['is_fraud']/dd['is_valid_pb']).round(decimals=2)\n",
    "    dd['fraud_payout_p'] = (dd['fraud_payout']/dd['payout']).round(decimals=2)\n",
    "    dd['ctit_p'] = (dd['is_ctit']/dd['is_valid_pb']).round(decimals=2)\n",
    "    return dd\n",
    "\n",
    "def get_top_datas(df, key, tops):\n",
    "    return df[df[key].isin(tops)]\n"
   ]
  },
  {
   "cell_type": "markdown",
   "metadata": {},
   "source": [
    "### 0.设置source "
   ]
  },
  {
   "cell_type": "code",
   "execution_count": null,
   "metadata": {},
   "outputs": [],
   "source": [
    "source = [246]\n",
    "date_one = ['2018-10-28']\n",
    "date_multi = org_df['date'].unique()\n",
    "date_one = ['2018-10-22','2018-10-23','2018-10-24','2018-10-25','2018-10-26','2018-10-27','2018-10-28']"
   ]
  },
  {
   "cell_type": "markdown",
   "metadata": {},
   "source": [
    "### 1.计算一天的数据"
   ]
  },
  {
   "cell_type": "code",
   "execution_count": null,
   "metadata": {},
   "outputs": [],
   "source": [
    "df_one = fill_org(org_df, source=source, dates=date_one)\n",
    "date_len = len(date_one)\n",
    "print('计算 {} 天数据'.format(date_len))\n",
    "get_summary_by_date(df_one)"
   ]
  },
  {
   "cell_type": "code",
   "execution_count": null,
   "metadata": {},
   "outputs": [],
   "source": [
    "df_one.head()"
   ]
  },
  {
   "cell_type": "code",
   "execution_count": null,
   "metadata": {},
   "outputs": [],
   "source": [
    "get_fraud_note(df_one)"
   ]
  },
  {
   "cell_type": "markdown",
   "metadata": {},
   "source": [
    "#### 1.1 以pubid维度分析"
   ]
  },
  {
   "cell_type": "code",
   "execution_count": null,
   "metadata": {
    "scrolled": false
   },
   "outputs": [],
   "source": [
    "top_pub_dd = get_tops(df_one, date_len, t_pb_day=10, t_payout_day=50, group_by=['pubid'])\n",
    "top_pub_dd = top_pub_dd.sort_values(by=['fraud_payout_p','fraud_p'], ascending=False)\n",
    "top_pub_dd"
   ]
  },
  {
   "cell_type": "code",
   "execution_count": null,
   "metadata": {},
   "outputs": [],
   "source": [
    "top_pub_dd.index.values"
   ]
  },
  {
   "cell_type": "code",
   "execution_count": null,
   "metadata": {
    "scrolled": true
   },
   "outputs": [],
   "source": [
    "top_pub_dd = top_pub_dd.sort_values(by=['fraud_payout','fraud_p'], ascending=False)\n",
    "top_pub_dd"
   ]
  },
  {
   "cell_type": "code",
   "execution_count": null,
   "metadata": {},
   "outputs": [],
   "source": [
    "top_pub_dd.index.values"
   ]
  },
  {
   "cell_type": "markdown",
   "metadata": {},
   "source": [
    "#### 1.2 以pubid+subid维度分析"
   ]
  },
  {
   "cell_type": "code",
   "execution_count": null,
   "metadata": {},
   "outputs": [],
   "source": [
    "top_sub_dd = get_tops(df_one, date_len, t_pb_day=3, t_payout_day=5, group_by=['subid']).sort_values(by=['payout'], ascending=False)\n",
    "top_sub_dd"
   ]
  },
  {
   "cell_type": "code",
   "execution_count": null,
   "metadata": {},
   "outputs": [],
   "source": [
    "top_sub_dd = top_sub_dd.sort_values(by=['fraud_payout_p','fraud_p'], ascending=False)\n",
    "top_sub_dd"
   ]
  },
  {
   "cell_type": "code",
   "execution_count": null,
   "metadata": {},
   "outputs": [],
   "source": [
    "top_sub_dd = top_sub_dd.sort_values(by=['fraud_payout','fraud_p'], ascending=False)\n",
    "top_sub_dd"
   ]
  },
  {
   "cell_type": "markdown",
   "metadata": {},
   "source": [
    "#### 1.3 以campid+pubid+subid维度分析"
   ]
  },
  {
   "cell_type": "code",
   "execution_count": null,
   "metadata": {},
   "outputs": [],
   "source": [
    "top_camp_dd_temp = get_tops(df_one, date_len, t_pb_day=10, t_payout_day=50, group_by=['campid']).sort_values(by=['payout'], ascending=False)\n",
    "top_camp_dd_temp"
   ]
  },
  {
   "cell_type": "code",
   "execution_count": null,
   "metadata": {},
   "outputs": [],
   "source": [
    "top_campids = top_camp_dd_temp.index.values\n",
    "top_campids"
   ]
  },
  {
   "cell_type": "code",
   "execution_count": null,
   "metadata": {
    "scrolled": true
   },
   "outputs": [],
   "source": [
    "top_camp_dd = get_tops(get_top_datas(df_one, 'campid', top_campids), date_len, t_pb_day=3, t_payout_day=5, group_by=['campid', 'pubid', 'subid'])\n",
    "top_camp_dd.sort_values(by=['campid', 'pubid', 'subid'], ascending=False)"
   ]
  },
  {
   "cell_type": "code",
   "execution_count": null,
   "metadata": {},
   "outputs": [],
   "source": [
    "top_camp_dd = top_camp_dd.reset_index()"
   ]
  },
  {
   "cell_type": "code",
   "execution_count": null,
   "metadata": {},
   "outputs": [],
   "source": [
    "top_dd = top_camp_dd.sort_values(by=['fraud_payout_p','fraud_p'], ascending=False)\n",
    "top_dd"
   ]
  },
  {
   "cell_type": "code",
   "execution_count": null,
   "metadata": {},
   "outputs": [],
   "source": [
    "top_dd = top_camp_dd.sort_values(by=['fraud_payout','fraud_p'], ascending=False)\n",
    "top_dd"
   ]
  },
  {
   "cell_type": "markdown",
   "metadata": {},
   "source": [
    "### 2. 计算多天的数据"
   ]
  },
  {
   "cell_type": "code",
   "execution_count": null,
   "metadata": {},
   "outputs": [],
   "source": [
    "return\n",
    "df_multi = fill_org(org_df, source, dates=date_multi)\n",
    "date_len = len(date_multi)\n",
    "get_summary_by_date(df_multi)"
   ]
  },
  {
   "cell_type": "code",
   "execution_count": null,
   "metadata": {
    "scrolled": true
   },
   "outputs": [],
   "source": [
    "get_fraud_note(df_multi)"
   ]
  },
  {
   "cell_type": "markdown",
   "metadata": {},
   "source": [
    "#### 根据fraud_payout_p和fraud_p排序"
   ]
  },
  {
   "cell_type": "code",
   "execution_count": null,
   "metadata": {},
   "outputs": [],
   "source": [
    "top_dd = get_tops(df_multi, date_len)\n",
    "top_dd = top_dd.sort_values(by=['fraud_payout_p','fraud_p'], ascending=False)\n",
    "top_dd"
   ]
  },
  {
   "cell_type": "code",
   "execution_count": null,
   "metadata": {},
   "outputs": [],
   "source": [
    "top_dd.index.values"
   ]
  },
  {
   "cell_type": "markdown",
   "metadata": {},
   "source": [
    "#### 根据fraud_payout和fraud_p排序"
   ]
  },
  {
   "cell_type": "code",
   "execution_count": null,
   "metadata": {},
   "outputs": [],
   "source": [
    "top_dd = top_dd.sort_values(by=['fraud_payout','fraud_p'], ascending=False)\n",
    "top_dd"
   ]
  },
  {
   "cell_type": "code",
   "execution_count": null,
   "metadata": {},
   "outputs": [],
   "source": [
    "top_dd.index.values"
   ]
  },
  {
   "cell_type": "markdown",
   "metadata": {},
   "source": [
    "#### 根据ctit_p和fraud_payout_p排序"
   ]
  },
  {
   "cell_type": "code",
   "execution_count": null,
   "metadata": {},
   "outputs": [],
   "source": [
    "top_dd = top_dd.sort_values(by=['ctit_p','fraud_payout'], ascending=False)\n",
    "top_dd"
   ]
  },
  {
   "cell_type": "code",
   "execution_count": null,
   "metadata": {},
   "outputs": [],
   "source": [
    "top_dd.index.values"
   ]
  },
  {
   "cell_type": "code",
   "execution_count": null,
   "metadata": {},
   "outputs": [],
   "source": [
    "top_df = get_top_datas(df_multi, 'pubid', top_dd.index.values)"
   ]
  },
  {
   "cell_type": "code",
   "execution_count": null,
   "metadata": {},
   "outputs": [],
   "source": [
    "dt = pd.pivot_table(top_df, values=['payout'], index=['fraud_note'], columns=['pubid'], aggfunc='sum', margins=False,fill_value=0)\n",
    "#dt = dt.reset_index()\n",
    "dt"
   ]
  },
  {
   "cell_type": "code",
   "execution_count": null,
   "metadata": {},
   "outputs": [],
   "source": [
    "sns.pairplot(top_df[['payout', 'pubid', 'is_fraud', 'is_valid_pb', 'fraud_payout', 'ctit', 'is_ctit']]);"
   ]
  },
  {
   "cell_type": "code",
   "execution_count": null,
   "metadata": {
    "scrolled": true
   },
   "outputs": [],
   "source": [
    "\n",
    "#plt.figure(figsize=(1200, 800))\n",
    "#sns.set(style=\"ticks\", color_codes=True,rc={'figure.figsize':(100, 200)})\n",
    "#sns.catplot(x='pubid', y='payout', hue=\"is_fraud\", kind=\"swarm\", palette=\"Set1\", data=top_df);\n",
    "sns.catplot(x=\"pubid\", y=\"payout\", hue=\"is_fraud\", kind=\"violin\", inner=\"stick\", split=True, palette=\"pastel\", data=top_df);"
   ]
  },
  {
   "cell_type": "code",
   "execution_count": null,
   "metadata": {},
   "outputs": [],
   "source": [
    "sns.distplot(df['payout']);"
   ]
  },
  {
   "cell_type": "code",
   "execution_count": null,
   "metadata": {},
   "outputs": [],
   "source": []
  },
  {
   "cell_type": "code",
   "execution_count": null,
   "metadata": {},
   "outputs": [],
   "source": [
    "dd.index.values"
   ]
  },
  {
   "cell_type": "code",
   "execution_count": null,
   "metadata": {
    "scrolled": false
   },
   "outputs": [],
   "source": [
    "#with pd.plotting.plot_params.use('x_compat', True):\n",
    "#    for i in dt.columns.values:\n",
    "#        dt[i].plot();\n",
    "        #dt[i].rolling(window=7).mean().plot();     \n",
    "dt.plot(subplots=True, grid=True, figsize=(20, 200), use_index=True, xticks=range(0, len(dt.index.values)));"
   ]
  },
  {
   "cell_type": "code",
   "execution_count": null,
   "metadata": {},
   "outputs": [],
   "source": [
    "dt.rolling(window=7).mean().plot(subplots=True, grid=True, figsize=(20, 200), use_index=True, xticks=range(0, len(dt.index.values)));"
   ]
  },
  {
   "cell_type": "code",
   "execution_count": null,
   "metadata": {},
   "outputs": [],
   "source": [
    "import matplotlib.pyplot as plt\n",
    "x=dt.index\n",
    "y1 = dt\n",
    "y2 = dt.rolling(window=3).mean()\n",
    "\n",
    "#plt.plot(x,y1,'r',x,y2,'h',);\n",
    "dt.plot(subplots=True, grid=True, figsize=(20, 200), use_index=True, xticks=range(0, len(dt.index.values)));"
   ]
  },
  {
   "cell_type": "code",
   "execution_count": null,
   "metadata": {},
   "outputs": [],
   "source": [
    "c_date = '2018-10-17'\n",
    "total_payout = 100\n",
    "fraud_low_weight = 0.8\n",
    "fraud_high_weight = 1.2\n",
    "\n",
    "dd = df[df['date']==c_date]\n",
    "#dd = df"
   ]
  },
  {
   "cell_type": "code",
   "execution_count": null,
   "metadata": {},
   "outputs": [],
   "source": [
    "fraud_avg = dd['is_fraud'].aggregate(np.sum)/dd['is_valid_pb'].size\n",
    "fraud_avg"
   ]
  },
  {
   "cell_type": "code",
   "execution_count": null,
   "metadata": {},
   "outputs": [],
   "source": [
    "dd = dd.groupby(['pubid'])['payout','is_fraud','is_valid_pb'].aggregate(np.sum)\n",
    "dd['fraud_p'] = (dd['is_fraud']/dd['is_valid_pb']).round(decimals=2)"
   ]
  },
  {
   "cell_type": "code",
   "execution_count": null,
   "metadata": {},
   "outputs": [],
   "source": [
    "dd.query('payout > {} & fraud_p >= {}'.format(total_payout, fraud_avg*fraud_high_weight)).sort_values(by=['payout'], ascending=False)"
   ]
  },
  {
   "cell_type": "code",
   "execution_count": null,
   "metadata": {},
   "outputs": [],
   "source": [
    "dd.query('payout > {} & fraud_p <= {}'.format(total_payout, fraud_avg*fraud_low_weight)).sort_values(by=['payout'], ascending=False)"
   ]
  },
  {
   "cell_type": "code",
   "execution_count": null,
   "metadata": {},
   "outputs": [],
   "source": [
    "sns.pairplot(data[['payout', 'is_fraud']])"
   ]
  },
  {
   "cell_type": "code",
   "execution_count": null,
   "metadata": {},
   "outputs": [],
   "source": [
    "sns.boxplot(x='payout', y='fraud_p', data=data)"
   ]
  }
 ],
 "metadata": {
  "kernelspec": {
   "display_name": "Python 3",
   "language": "python",
   "name": "python3"
  },
  "language_info": {
   "codemirror_mode": {
    "name": "ipython",
    "version": 3
   },
   "file_extension": ".py",
   "mimetype": "text/x-python",
   "name": "python",
   "nbconvert_exporter": "python",
   "pygments_lexer": "ipython3",
   "version": "3.5.2"
  }
 },
 "nbformat": 4,
 "nbformat_minor": 1
}
